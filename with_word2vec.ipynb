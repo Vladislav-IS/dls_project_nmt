{
  "nbformat": 4,
  "nbformat_minor": 0,
  "metadata": {
    "colab": {
      "name": "with word2vec.ipynb",
      "provenance": []
    },
    "kernelspec": {
      "name": "python3",
      "display_name": "Python 3"
    },
    "language_info": {
      "name": "python"
    },
    "accelerator": "GPU",
    "widgets": {
      "application/vnd.jupyter.widget-state+json": {
        "f05f0716d5e9416b8315a7a1a9d77973": {
          "model_module": "@jupyter-widgets/controls",
          "model_name": "HBoxModel",
          "model_module_version": "1.5.0",
          "state": {
            "_view_name": "HBoxView",
            "_dom_classes": [],
            "_model_name": "HBoxModel",
            "_view_module": "@jupyter-widgets/controls",
            "_model_module_version": "1.5.0",
            "_view_count": null,
            "_view_module_version": "1.5.0",
            "box_style": "",
            "layout": "IPY_MODEL_8dcac89c4fce460ba567255d94f32573",
            "_model_module": "@jupyter-widgets/controls",
            "children": [
              "IPY_MODEL_0c9e5b0c48e54cdc8293c2e307a073c3",
              "IPY_MODEL_5bbfb16c6be544bfbc95b96da77ec5c6",
              "IPY_MODEL_5ac36950c8cd428e83b0db6a62d3fd66"
            ]
          }
        },
        "8dcac89c4fce460ba567255d94f32573": {
          "model_module": "@jupyter-widgets/base",
          "model_name": "LayoutModel",
          "model_module_version": "1.2.0",
          "state": {
            "_view_name": "LayoutView",
            "grid_template_rows": null,
            "right": null,
            "justify_content": null,
            "_view_module": "@jupyter-widgets/base",
            "overflow": null,
            "_model_module_version": "1.2.0",
            "_view_count": null,
            "flex_flow": null,
            "width": null,
            "min_width": null,
            "border": null,
            "align_items": null,
            "bottom": null,
            "_model_module": "@jupyter-widgets/base",
            "top": null,
            "grid_column": null,
            "overflow_y": null,
            "overflow_x": null,
            "grid_auto_flow": null,
            "grid_area": null,
            "grid_template_columns": null,
            "flex": null,
            "_model_name": "LayoutModel",
            "justify_items": null,
            "grid_row": null,
            "max_height": null,
            "align_content": null,
            "visibility": null,
            "align_self": null,
            "height": null,
            "min_height": null,
            "padding": null,
            "grid_auto_rows": null,
            "grid_gap": null,
            "max_width": null,
            "order": null,
            "_view_module_version": "1.2.0",
            "grid_template_areas": null,
            "object_position": null,
            "object_fit": null,
            "grid_auto_columns": null,
            "margin": null,
            "display": null,
            "left": null
          }
        },
        "0c9e5b0c48e54cdc8293c2e307a073c3": {
          "model_module": "@jupyter-widgets/controls",
          "model_name": "HTMLModel",
          "model_module_version": "1.5.0",
          "state": {
            "_view_name": "HTMLView",
            "style": "IPY_MODEL_a5a2294236e94f7b82b7af4379c1b1a4",
            "_dom_classes": [],
            "description": "",
            "_model_name": "HTMLModel",
            "placeholder": "​",
            "_view_module": "@jupyter-widgets/controls",
            "_model_module_version": "1.5.0",
            "value": "100%",
            "_view_count": null,
            "_view_module_version": "1.5.0",
            "description_tooltip": null,
            "_model_module": "@jupyter-widgets/controls",
            "layout": "IPY_MODEL_37c6d0d11bdd48b8ad9026d9151c5db3"
          }
        },
        "5bbfb16c6be544bfbc95b96da77ec5c6": {
          "model_module": "@jupyter-widgets/controls",
          "model_name": "FloatProgressModel",
          "model_module_version": "1.5.0",
          "state": {
            "_view_name": "ProgressView",
            "style": "IPY_MODEL_bcb1abdbea714cd2b321e42a93bcfe15",
            "_dom_classes": [],
            "description": "",
            "_model_name": "FloatProgressModel",
            "bar_style": "success",
            "max": 89,
            "_view_module": "@jupyter-widgets/controls",
            "_model_module_version": "1.5.0",
            "value": 89,
            "_view_count": null,
            "_view_module_version": "1.5.0",
            "orientation": "horizontal",
            "min": 0,
            "description_tooltip": null,
            "_model_module": "@jupyter-widgets/controls",
            "layout": "IPY_MODEL_579bac1c6c3d448cb98c0cde67a045ab"
          }
        },
        "5ac36950c8cd428e83b0db6a62d3fd66": {
          "model_module": "@jupyter-widgets/controls",
          "model_name": "HTMLModel",
          "model_module_version": "1.5.0",
          "state": {
            "_view_name": "HTMLView",
            "style": "IPY_MODEL_6737e3bea98344d4969a79773182eeb5",
            "_dom_classes": [],
            "description": "",
            "_model_name": "HTMLModel",
            "placeholder": "​",
            "_view_module": "@jupyter-widgets/controls",
            "_model_module_version": "1.5.0",
            "value": " 89/89 [00:42&lt;00:00,  1.67s/it]",
            "_view_count": null,
            "_view_module_version": "1.5.0",
            "description_tooltip": null,
            "_model_module": "@jupyter-widgets/controls",
            "layout": "IPY_MODEL_db46a17205fa46a1b7f184a3c577042d"
          }
        },
        "a5a2294236e94f7b82b7af4379c1b1a4": {
          "model_module": "@jupyter-widgets/controls",
          "model_name": "DescriptionStyleModel",
          "model_module_version": "1.5.0",
          "state": {
            "_view_name": "StyleView",
            "_model_name": "DescriptionStyleModel",
            "description_width": "",
            "_view_module": "@jupyter-widgets/base",
            "_model_module_version": "1.5.0",
            "_view_count": null,
            "_view_module_version": "1.2.0",
            "_model_module": "@jupyter-widgets/controls"
          }
        },
        "37c6d0d11bdd48b8ad9026d9151c5db3": {
          "model_module": "@jupyter-widgets/base",
          "model_name": "LayoutModel",
          "model_module_version": "1.2.0",
          "state": {
            "_view_name": "LayoutView",
            "grid_template_rows": null,
            "right": null,
            "justify_content": null,
            "_view_module": "@jupyter-widgets/base",
            "overflow": null,
            "_model_module_version": "1.2.0",
            "_view_count": null,
            "flex_flow": null,
            "width": null,
            "min_width": null,
            "border": null,
            "align_items": null,
            "bottom": null,
            "_model_module": "@jupyter-widgets/base",
            "top": null,
            "grid_column": null,
            "overflow_y": null,
            "overflow_x": null,
            "grid_auto_flow": null,
            "grid_area": null,
            "grid_template_columns": null,
            "flex": null,
            "_model_name": "LayoutModel",
            "justify_items": null,
            "grid_row": null,
            "max_height": null,
            "align_content": null,
            "visibility": null,
            "align_self": null,
            "height": null,
            "min_height": null,
            "padding": null,
            "grid_auto_rows": null,
            "grid_gap": null,
            "max_width": null,
            "order": null,
            "_view_module_version": "1.2.0",
            "grid_template_areas": null,
            "object_position": null,
            "object_fit": null,
            "grid_auto_columns": null,
            "margin": null,
            "display": null,
            "left": null
          }
        },
        "bcb1abdbea714cd2b321e42a93bcfe15": {
          "model_module": "@jupyter-widgets/controls",
          "model_name": "ProgressStyleModel",
          "model_module_version": "1.5.0",
          "state": {
            "_view_name": "StyleView",
            "_model_name": "ProgressStyleModel",
            "description_width": "",
            "_view_module": "@jupyter-widgets/base",
            "_model_module_version": "1.5.0",
            "_view_count": null,
            "_view_module_version": "1.2.0",
            "bar_color": null,
            "_model_module": "@jupyter-widgets/controls"
          }
        },
        "579bac1c6c3d448cb98c0cde67a045ab": {
          "model_module": "@jupyter-widgets/base",
          "model_name": "LayoutModel",
          "model_module_version": "1.2.0",
          "state": {
            "_view_name": "LayoutView",
            "grid_template_rows": null,
            "right": null,
            "justify_content": null,
            "_view_module": "@jupyter-widgets/base",
            "overflow": null,
            "_model_module_version": "1.2.0",
            "_view_count": null,
            "flex_flow": null,
            "width": null,
            "min_width": null,
            "border": null,
            "align_items": null,
            "bottom": null,
            "_model_module": "@jupyter-widgets/base",
            "top": null,
            "grid_column": null,
            "overflow_y": null,
            "overflow_x": null,
            "grid_auto_flow": null,
            "grid_area": null,
            "grid_template_columns": null,
            "flex": null,
            "_model_name": "LayoutModel",
            "justify_items": null,
            "grid_row": null,
            "max_height": null,
            "align_content": null,
            "visibility": null,
            "align_self": null,
            "height": null,
            "min_height": null,
            "padding": null,
            "grid_auto_rows": null,
            "grid_gap": null,
            "max_width": null,
            "order": null,
            "_view_module_version": "1.2.0",
            "grid_template_areas": null,
            "object_position": null,
            "object_fit": null,
            "grid_auto_columns": null,
            "margin": null,
            "display": null,
            "left": null
          }
        },
        "6737e3bea98344d4969a79773182eeb5": {
          "model_module": "@jupyter-widgets/controls",
          "model_name": "DescriptionStyleModel",
          "model_module_version": "1.5.0",
          "state": {
            "_view_name": "StyleView",
            "_model_name": "DescriptionStyleModel",
            "description_width": "",
            "_view_module": "@jupyter-widgets/base",
            "_model_module_version": "1.5.0",
            "_view_count": null,
            "_view_module_version": "1.2.0",
            "_model_module": "@jupyter-widgets/controls"
          }
        },
        "db46a17205fa46a1b7f184a3c577042d": {
          "model_module": "@jupyter-widgets/base",
          "model_name": "LayoutModel",
          "model_module_version": "1.2.0",
          "state": {
            "_view_name": "LayoutView",
            "grid_template_rows": null,
            "right": null,
            "justify_content": null,
            "_view_module": "@jupyter-widgets/base",
            "overflow": null,
            "_model_module_version": "1.2.0",
            "_view_count": null,
            "flex_flow": null,
            "width": null,
            "min_width": null,
            "border": null,
            "align_items": null,
            "bottom": null,
            "_model_module": "@jupyter-widgets/base",
            "top": null,
            "grid_column": null,
            "overflow_y": null,
            "overflow_x": null,
            "grid_auto_flow": null,
            "grid_area": null,
            "grid_template_columns": null,
            "flex": null,
            "_model_name": "LayoutModel",
            "justify_items": null,
            "grid_row": null,
            "max_height": null,
            "align_content": null,
            "visibility": null,
            "align_self": null,
            "height": null,
            "min_height": null,
            "padding": null,
            "grid_auto_rows": null,
            "grid_gap": null,
            "max_width": null,
            "order": null,
            "_view_module_version": "1.2.0",
            "grid_template_areas": null,
            "object_position": null,
            "object_fit": null,
            "grid_auto_columns": null,
            "margin": null,
            "display": null,
            "left": null
          }
        }
      }
    }
  },
  "cells": [
    {
      "cell_type": "markdown",
      "source": [
        "При написании кода я опирался на семинар по трансформерам и на эти ресурсы:\n",
        "- https://sungwookyoo.github.io/tips/study/Multihead_Attention/ (маски для MultiheadAttention);\n",
        "- https://pytorch.org/tutorials/beginner/transformer_tutorial.html (PositionalEncoding)."
      ],
      "metadata": {
        "id": "3smhMfe2rU-H"
      }
    },
    {
      "cell_type": "code",
      "execution_count": 1,
      "metadata": {
        "colab": {
          "base_uri": "https://localhost:8080/"
        },
        "id": "ZjXirkPjuLz7",
        "outputId": "7e655927-72c1-46fc-8ca1-dadd16897c57"
      },
      "outputs": [
        {
          "output_type": "stream",
          "name": "stdout",
          "text": [
            "Mounted at /content/drive\n"
          ]
        }
      ],
      "source": [
        "from google.colab import drive\n",
        "drive.mount('/content/drive')  "
      ]
    },
    {
      "cell_type": "code",
      "source": [
        "import zipfile\n",
        "zipfile.ZipFile('./drive/MyDrive/ber-eng.zip', 'r').extractall('./')"
      ],
      "metadata": {
        "id": "hc1lTJkjuT6y"
      },
      "execution_count": 2,
      "outputs": []
    },
    {
      "cell_type": "code",
      "source": [
        "import unicodedata\n",
        "import random\n",
        "import torch\n",
        "import torch.nn as nn\n",
        "import torch.optim as optim\n",
        "import torchtext\n",
        "from torchtext.legacy.data import Field, BucketIterator\n",
        "import numpy as np\n",
        "\n",
        "SEED = 1234\n",
        "\n",
        "random.seed(SEED)\n",
        "np.random.seed(SEED)\n",
        "torch.manual_seed(SEED)\n",
        "torch.cuda.manual_seed(SEED)\n",
        "torch.backends.cudnn.deterministic = True"
      ],
      "metadata": {
        "id": "gXTASWJTuY0R"
      },
      "execution_count": 3,
      "outputs": []
    },
    {
      "cell_type": "code",
      "source": [
        "def is_tifinagh(x):\n",
        "    return unicodedata.name(x)[:len('TIFINAGH LETTER')] == 'TIFINAGH LETTER'"
      ],
      "metadata": {
        "id": "57c3Bxhvubxh"
      },
      "execution_count": 4,
      "outputs": []
    },
    {
      "cell_type": "code",
      "source": [
        "with open('ber.txt', 'r') as inf, open('data.txt', 'w') as ouf:\n",
        "    predata = inf.read()\n",
        "    phrases = [line.lower().split('\\t')[:-1] for line in predata.split('\\n')[:-1]]\n",
        "    cleaned_phrases = ['\\t'.join(phrases[0])]\n",
        "    key = phrases[0][0]\n",
        "    for i in range(1, len(phrases)):\n",
        "        if phrases[i][0] != key and not is_tifinagh(phrases[i][1][0]):\n",
        "            cleaned_phrases += ['\\t'.join(phrases[i])]\n",
        "            key = phrases[i][0]\n",
        "    random.shuffle(cleaned_phrases)\n",
        "    data = '\\n'.join(cleaned_phrases)\n",
        "    ouf.write(data)"
      ],
      "metadata": {
        "id": "YQlWfXCKud-h"
      },
      "execution_count": 5,
      "outputs": []
    },
    {
      "cell_type": "code",
      "source": [
        "with open('en_for_bpe.txt', 'w') as enf, open('be_for_bpe.txt', 'w') as bef:\n",
        "    en_words = [line.split('\\t')[0] for line in cleaned_phrases]\n",
        "    be_words = [line.split('\\t')[1] for line in cleaned_phrases]\n",
        "    enf.write('\\n'.join(en_words))\n",
        "    bef.write('\\n'.join(be_words))"
      ],
      "metadata": {
        "id": "QIj1z2h3uj33"
      },
      "execution_count": 6,
      "outputs": []
    },
    {
      "cell_type": "code",
      "source": [
        "!pip install youtokentome"
      ],
      "metadata": {
        "colab": {
          "base_uri": "https://localhost:8080/"
        },
        "id": "_-34kY6HuuAr",
        "outputId": "425c68e6-8b88-4159-d902-50b3e24f5bb8"
      },
      "execution_count": 7,
      "outputs": [
        {
          "output_type": "stream",
          "name": "stdout",
          "text": [
            "Collecting youtokentome\n",
            "  Downloading youtokentome-1.0.6-cp37-cp37m-manylinux2010_x86_64.whl (1.7 MB)\n",
            "\u001b[?25l\r\u001b[K     |▏                               | 10 kB 32.5 MB/s eta 0:00:01\r\u001b[K     |▍                               | 20 kB 33.5 MB/s eta 0:00:01\r\u001b[K     |▋                               | 30 kB 38.0 MB/s eta 0:00:01\r\u001b[K     |▊                               | 40 kB 30.6 MB/s eta 0:00:01\r\u001b[K     |█                               | 51 kB 30.1 MB/s eta 0:00:01\r\u001b[K     |█▏                              | 61 kB 23.7 MB/s eta 0:00:01\r\u001b[K     |█▍                              | 71 kB 21.9 MB/s eta 0:00:01\r\u001b[K     |█▌                              | 81 kB 23.5 MB/s eta 0:00:01\r\u001b[K     |█▊                              | 92 kB 25.2 MB/s eta 0:00:01\r\u001b[K     |██                              | 102 kB 26.8 MB/s eta 0:00:01\r\u001b[K     |██                              | 112 kB 26.8 MB/s eta 0:00:01\r\u001b[K     |██▎                             | 122 kB 26.8 MB/s eta 0:00:01\r\u001b[K     |██▌                             | 133 kB 26.8 MB/s eta 0:00:01\r\u001b[K     |██▊                             | 143 kB 26.8 MB/s eta 0:00:01\r\u001b[K     |██▉                             | 153 kB 26.8 MB/s eta 0:00:01\r\u001b[K     |███                             | 163 kB 26.8 MB/s eta 0:00:01\r\u001b[K     |███▎                            | 174 kB 26.8 MB/s eta 0:00:01\r\u001b[K     |███▌                            | 184 kB 26.8 MB/s eta 0:00:01\r\u001b[K     |███▋                            | 194 kB 26.8 MB/s eta 0:00:01\r\u001b[K     |███▉                            | 204 kB 26.8 MB/s eta 0:00:01\r\u001b[K     |████                            | 215 kB 26.8 MB/s eta 0:00:01\r\u001b[K     |████▏                           | 225 kB 26.8 MB/s eta 0:00:01\r\u001b[K     |████▍                           | 235 kB 26.8 MB/s eta 0:00:01\r\u001b[K     |████▋                           | 245 kB 26.8 MB/s eta 0:00:01\r\u001b[K     |████▉                           | 256 kB 26.8 MB/s eta 0:00:01\r\u001b[K     |█████                           | 266 kB 26.8 MB/s eta 0:00:01\r\u001b[K     |█████▏                          | 276 kB 26.8 MB/s eta 0:00:01\r\u001b[K     |█████▍                          | 286 kB 26.8 MB/s eta 0:00:01\r\u001b[K     |█████▌                          | 296 kB 26.8 MB/s eta 0:00:01\r\u001b[K     |█████▊                          | 307 kB 26.8 MB/s eta 0:00:01\r\u001b[K     |██████                          | 317 kB 26.8 MB/s eta 0:00:01\r\u001b[K     |██████▏                         | 327 kB 26.8 MB/s eta 0:00:01\r\u001b[K     |██████▎                         | 337 kB 26.8 MB/s eta 0:00:01\r\u001b[K     |██████▌                         | 348 kB 26.8 MB/s eta 0:00:01\r\u001b[K     |██████▊                         | 358 kB 26.8 MB/s eta 0:00:01\r\u001b[K     |███████                         | 368 kB 26.8 MB/s eta 0:00:01\r\u001b[K     |███████                         | 378 kB 26.8 MB/s eta 0:00:01\r\u001b[K     |███████▎                        | 389 kB 26.8 MB/s eta 0:00:01\r\u001b[K     |███████▌                        | 399 kB 26.8 MB/s eta 0:00:01\r\u001b[K     |███████▋                        | 409 kB 26.8 MB/s eta 0:00:01\r\u001b[K     |███████▉                        | 419 kB 26.8 MB/s eta 0:00:01\r\u001b[K     |████████                        | 430 kB 26.8 MB/s eta 0:00:01\r\u001b[K     |████████▎                       | 440 kB 26.8 MB/s eta 0:00:01\r\u001b[K     |████████▍                       | 450 kB 26.8 MB/s eta 0:00:01\r\u001b[K     |████████▋                       | 460 kB 26.8 MB/s eta 0:00:01\r\u001b[K     |████████▉                       | 471 kB 26.8 MB/s eta 0:00:01\r\u001b[K     |█████████                       | 481 kB 26.8 MB/s eta 0:00:01\r\u001b[K     |█████████▏                      | 491 kB 26.8 MB/s eta 0:00:01\r\u001b[K     |█████████▍                      | 501 kB 26.8 MB/s eta 0:00:01\r\u001b[K     |█████████▋                      | 512 kB 26.8 MB/s eta 0:00:01\r\u001b[K     |█████████▊                      | 522 kB 26.8 MB/s eta 0:00:01\r\u001b[K     |██████████                      | 532 kB 26.8 MB/s eta 0:00:01\r\u001b[K     |██████████▏                     | 542 kB 26.8 MB/s eta 0:00:01\r\u001b[K     |██████████▍                     | 552 kB 26.8 MB/s eta 0:00:01\r\u001b[K     |██████████▌                     | 563 kB 26.8 MB/s eta 0:00:01\r\u001b[K     |██████████▊                     | 573 kB 26.8 MB/s eta 0:00:01\r\u001b[K     |███████████                     | 583 kB 26.8 MB/s eta 0:00:01\r\u001b[K     |███████████                     | 593 kB 26.8 MB/s eta 0:00:01\r\u001b[K     |███████████▎                    | 604 kB 26.8 MB/s eta 0:00:01\r\u001b[K     |███████████▌                    | 614 kB 26.8 MB/s eta 0:00:01\r\u001b[K     |███████████▊                    | 624 kB 26.8 MB/s eta 0:00:01\r\u001b[K     |███████████▉                    | 634 kB 26.8 MB/s eta 0:00:01\r\u001b[K     |████████████                    | 645 kB 26.8 MB/s eta 0:00:01\r\u001b[K     |████████████▎                   | 655 kB 26.8 MB/s eta 0:00:01\r\u001b[K     |████████████▍                   | 665 kB 26.8 MB/s eta 0:00:01\r\u001b[K     |████████████▋                   | 675 kB 26.8 MB/s eta 0:00:01\r\u001b[K     |████████████▉                   | 686 kB 26.8 MB/s eta 0:00:01\r\u001b[K     |█████████████                   | 696 kB 26.8 MB/s eta 0:00:01\r\u001b[K     |█████████████▏                  | 706 kB 26.8 MB/s eta 0:00:01\r\u001b[K     |█████████████▍                  | 716 kB 26.8 MB/s eta 0:00:01\r\u001b[K     |█████████████▋                  | 727 kB 26.8 MB/s eta 0:00:01\r\u001b[K     |█████████████▉                  | 737 kB 26.8 MB/s eta 0:00:01\r\u001b[K     |██████████████                  | 747 kB 26.8 MB/s eta 0:00:01\r\u001b[K     |██████████████▏                 | 757 kB 26.8 MB/s eta 0:00:01\r\u001b[K     |██████████████▍                 | 768 kB 26.8 MB/s eta 0:00:01\r\u001b[K     |██████████████▌                 | 778 kB 26.8 MB/s eta 0:00:01\r\u001b[K     |██████████████▊                 | 788 kB 26.8 MB/s eta 0:00:01\r\u001b[K     |███████████████                 | 798 kB 26.8 MB/s eta 0:00:01\r\u001b[K     |███████████████▏                | 808 kB 26.8 MB/s eta 0:00:01\r\u001b[K     |███████████████▎                | 819 kB 26.8 MB/s eta 0:00:01\r\u001b[K     |███████████████▌                | 829 kB 26.8 MB/s eta 0:00:01\r\u001b[K     |███████████████▊                | 839 kB 26.8 MB/s eta 0:00:01\r\u001b[K     |███████████████▉                | 849 kB 26.8 MB/s eta 0:00:01\r\u001b[K     |████████████████                | 860 kB 26.8 MB/s eta 0:00:01\r\u001b[K     |████████████████▎               | 870 kB 26.8 MB/s eta 0:00:01\r\u001b[K     |████████████████▌               | 880 kB 26.8 MB/s eta 0:00:01\r\u001b[K     |████████████████▋               | 890 kB 26.8 MB/s eta 0:00:01\r\u001b[K     |████████████████▉               | 901 kB 26.8 MB/s eta 0:00:01\r\u001b[K     |█████████████████               | 911 kB 26.8 MB/s eta 0:00:01\r\u001b[K     |█████████████████▎              | 921 kB 26.8 MB/s eta 0:00:01\r\u001b[K     |█████████████████▍              | 931 kB 26.8 MB/s eta 0:00:01\r\u001b[K     |█████████████████▋              | 942 kB 26.8 MB/s eta 0:00:01\r\u001b[K     |█████████████████▉              | 952 kB 26.8 MB/s eta 0:00:01\r\u001b[K     |██████████████████              | 962 kB 26.8 MB/s eta 0:00:01\r\u001b[K     |██████████████████▏             | 972 kB 26.8 MB/s eta 0:00:01\r\u001b[K     |██████████████████▍             | 983 kB 26.8 MB/s eta 0:00:01\r\u001b[K     |██████████████████▋             | 993 kB 26.8 MB/s eta 0:00:01\r\u001b[K     |██████████████████▊             | 1.0 MB 26.8 MB/s eta 0:00:01\r\u001b[K     |███████████████████             | 1.0 MB 26.8 MB/s eta 0:00:01\r\u001b[K     |███████████████████▏            | 1.0 MB 26.8 MB/s eta 0:00:01\r\u001b[K     |███████████████████▎            | 1.0 MB 26.8 MB/s eta 0:00:01\r\u001b[K     |███████████████████▌            | 1.0 MB 26.8 MB/s eta 0:00:01\r\u001b[K     |███████████████████▊            | 1.1 MB 26.8 MB/s eta 0:00:01\r\u001b[K     |████████████████████            | 1.1 MB 26.8 MB/s eta 0:00:01\r\u001b[K     |████████████████████            | 1.1 MB 26.8 MB/s eta 0:00:01\r\u001b[K     |████████████████████▎           | 1.1 MB 26.8 MB/s eta 0:00:01\r\u001b[K     |████████████████████▌           | 1.1 MB 26.8 MB/s eta 0:00:01\r\u001b[K     |████████████████████▊           | 1.1 MB 26.8 MB/s eta 0:00:01\r\u001b[K     |████████████████████▉           | 1.1 MB 26.8 MB/s eta 0:00:01\r\u001b[K     |█████████████████████           | 1.1 MB 26.8 MB/s eta 0:00:01\r\u001b[K     |█████████████████████▎          | 1.1 MB 26.8 MB/s eta 0:00:01\r\u001b[K     |█████████████████████▍          | 1.1 MB 26.8 MB/s eta 0:00:01\r\u001b[K     |█████████████████████▋          | 1.2 MB 26.8 MB/s eta 0:00:01\r\u001b[K     |█████████████████████▉          | 1.2 MB 26.8 MB/s eta 0:00:01\r\u001b[K     |██████████████████████          | 1.2 MB 26.8 MB/s eta 0:00:01\r\u001b[K     |██████████████████████▏         | 1.2 MB 26.8 MB/s eta 0:00:01\r\u001b[K     |██████████████████████▍         | 1.2 MB 26.8 MB/s eta 0:00:01\r\u001b[K     |██████████████████████▋         | 1.2 MB 26.8 MB/s eta 0:00:01\r\u001b[K     |██████████████████████▊         | 1.2 MB 26.8 MB/s eta 0:00:01\r\u001b[K     |███████████████████████         | 1.2 MB 26.8 MB/s eta 0:00:01\r\u001b[K     |███████████████████████▏        | 1.2 MB 26.8 MB/s eta 0:00:01\r\u001b[K     |███████████████████████▍        | 1.2 MB 26.8 MB/s eta 0:00:01\r\u001b[K     |███████████████████████▌        | 1.3 MB 26.8 MB/s eta 0:00:01\r\u001b[K     |███████████████████████▊        | 1.3 MB 26.8 MB/s eta 0:00:01\r\u001b[K     |████████████████████████        | 1.3 MB 26.8 MB/s eta 0:00:01\r\u001b[K     |████████████████████████▏       | 1.3 MB 26.8 MB/s eta 0:00:01\r\u001b[K     |████████████████████████▎       | 1.3 MB 26.8 MB/s eta 0:00:01\r\u001b[K     |████████████████████████▌       | 1.3 MB 26.8 MB/s eta 0:00:01\r\u001b[K     |████████████████████████▊       | 1.3 MB 26.8 MB/s eta 0:00:01\r\u001b[K     |████████████████████████▉       | 1.3 MB 26.8 MB/s eta 0:00:01\r\u001b[K     |█████████████████████████       | 1.3 MB 26.8 MB/s eta 0:00:01\r\u001b[K     |█████████████████████████▎      | 1.4 MB 26.8 MB/s eta 0:00:01\r\u001b[K     |█████████████████████████▌      | 1.4 MB 26.8 MB/s eta 0:00:01\r\u001b[K     |█████████████████████████▋      | 1.4 MB 26.8 MB/s eta 0:00:01\r\u001b[K     |█████████████████████████▉      | 1.4 MB 26.8 MB/s eta 0:00:01\r\u001b[K     |██████████████████████████      | 1.4 MB 26.8 MB/s eta 0:00:01\r\u001b[K     |██████████████████████████▏     | 1.4 MB 26.8 MB/s eta 0:00:01\r\u001b[K     |██████████████████████████▍     | 1.4 MB 26.8 MB/s eta 0:00:01\r\u001b[K     |██████████████████████████▋     | 1.4 MB 26.8 MB/s eta 0:00:01\r\u001b[K     |██████████████████████████▉     | 1.4 MB 26.8 MB/s eta 0:00:01\r\u001b[K     |███████████████████████████     | 1.4 MB 26.8 MB/s eta 0:00:01\r\u001b[K     |███████████████████████████▏    | 1.5 MB 26.8 MB/s eta 0:00:01\r\u001b[K     |███████████████████████████▍    | 1.5 MB 26.8 MB/s eta 0:00:01\r\u001b[K     |███████████████████████████▋    | 1.5 MB 26.8 MB/s eta 0:00:01\r\u001b[K     |███████████████████████████▊    | 1.5 MB 26.8 MB/s eta 0:00:01\r\u001b[K     |████████████████████████████    | 1.5 MB 26.8 MB/s eta 0:00:01\r\u001b[K     |████████████████████████████▏   | 1.5 MB 26.8 MB/s eta 0:00:01\r\u001b[K     |████████████████████████████▎   | 1.5 MB 26.8 MB/s eta 0:00:01\r\u001b[K     |████████████████████████████▌   | 1.5 MB 26.8 MB/s eta 0:00:01\r\u001b[K     |████████████████████████████▊   | 1.5 MB 26.8 MB/s eta 0:00:01\r\u001b[K     |█████████████████████████████   | 1.5 MB 26.8 MB/s eta 0:00:01\r\u001b[K     |█████████████████████████████   | 1.6 MB 26.8 MB/s eta 0:00:01\r\u001b[K     |█████████████████████████████▎  | 1.6 MB 26.8 MB/s eta 0:00:01\r\u001b[K     |█████████████████████████████▌  | 1.6 MB 26.8 MB/s eta 0:00:01\r\u001b[K     |█████████████████████████████▋  | 1.6 MB 26.8 MB/s eta 0:00:01\r\u001b[K     |█████████████████████████████▉  | 1.6 MB 26.8 MB/s eta 0:00:01\r\u001b[K     |██████████████████████████████  | 1.6 MB 26.8 MB/s eta 0:00:01\r\u001b[K     |██████████████████████████████▎ | 1.6 MB 26.8 MB/s eta 0:00:01\r\u001b[K     |██████████████████████████████▍ | 1.6 MB 26.8 MB/s eta 0:00:01\r\u001b[K     |██████████████████████████████▋ | 1.6 MB 26.8 MB/s eta 0:00:01\r\u001b[K     |██████████████████████████████▉ | 1.6 MB 26.8 MB/s eta 0:00:01\r\u001b[K     |███████████████████████████████ | 1.7 MB 26.8 MB/s eta 0:00:01\r\u001b[K     |███████████████████████████████▏| 1.7 MB 26.8 MB/s eta 0:00:01\r\u001b[K     |███████████████████████████████▍| 1.7 MB 26.8 MB/s eta 0:00:01\r\u001b[K     |███████████████████████████████▋| 1.7 MB 26.8 MB/s eta 0:00:01\r\u001b[K     |███████████████████████████████▊| 1.7 MB 26.8 MB/s eta 0:00:01\r\u001b[K     |████████████████████████████████| 1.7 MB 26.8 MB/s eta 0:00:01\r\u001b[K     |████████████████████████████████| 1.7 MB 26.8 MB/s \n",
            "\u001b[?25hRequirement already satisfied: Click>=7.0 in /usr/local/lib/python3.7/dist-packages (from youtokentome) (7.1.2)\n",
            "Installing collected packages: youtokentome\n",
            "Successfully installed youtokentome-1.0.6\n"
          ]
        }
      ]
    },
    {
      "cell_type": "code",
      "source": [
        "from youtokentome import BPE"
      ],
      "metadata": {
        "id": "NsNaPOYHuymC"
      },
      "execution_count": 8,
      "outputs": []
    },
    {
      "cell_type": "code",
      "source": [
        "bpe_en = BPE.train(data='en_for_bpe.txt', vocab_size=15000, model='bpe_en.bin')\n",
        "bpe_be = BPE.train(data='be_for_bpe.txt', vocab_size=15000, model='bpe_be.bin')"
      ],
      "metadata": {
        "id": "nBVxvCDCu2hA"
      },
      "execution_count": 9,
      "outputs": []
    },
    {
      "cell_type": "code",
      "source": [
        "def tokenize_en(x, tokenizer=bpe_en):\n",
        "    return [tokenizer.id_to_subword(word) for word in tokenizer.encode(x)]\n",
        "\n",
        "def tokenize_be(x, tokenizer=bpe_be):\n",
        "    return [tokenizer.id_to_subword(word) for word in tokenizer.encode(x)]"
      ],
      "metadata": {
        "id": "BsRifCL0JQa6"
      },
      "execution_count": 10,
      "outputs": []
    },
    {
      "cell_type": "code",
      "source": [
        "SRC = Field(tokenize=tokenize_en,\n",
        "            init_token = '<sos>',\n",
        "            eos_token = '<eos>',\n",
        "            lower = True,\n",
        "            batch_first = True)\n",
        "\n",
        "TRG = Field(tokenize=tokenize_be,\n",
        "            init_token = '<sos>',\n",
        "            eos_token = '<eos>',\n",
        "            lower = True,\n",
        "            batch_first = True)\n",
        "\n",
        "dataset = torchtext.legacy.data.TabularDataset(\n",
        "    path='data.txt',\n",
        "    format='tsv',\n",
        "    fields=[('src', SRC), ('trg', TRG)]\n",
        ")"
      ],
      "metadata": {
        "id": "5u49Ml0Pu5tU"
      },
      "execution_count": 11,
      "outputs": []
    },
    {
      "cell_type": "code",
      "source": [
        "train_data, valid_data, test_data = dataset.split(split_ratio=[0.8, 0.15, 0.05])"
      ],
      "metadata": {
        "id": "w0SOvGnBu8fa"
      },
      "execution_count": 12,
      "outputs": []
    },
    {
      "cell_type": "code",
      "source": [
        "SRC.build_vocab(train_data, min_freq = 1)\n",
        "TRG.build_vocab(train_data, min_freq = 1)"
      ],
      "metadata": {
        "id": "diKTyVKWu-YU"
      },
      "execution_count": 13,
      "outputs": []
    },
    {
      "cell_type": "code",
      "source": [
        "device = torch.device('cuda' if torch.cuda.is_available() else 'cpu')\n",
        "\n",
        "def _len_sort_key(x):\n",
        "    return len(x.src)\n",
        "\n",
        "BATCH_SIZE = 128\n",
        "\n",
        "train_iterator, valid_iterator, test_iterator = BucketIterator.splits(\n",
        "    (train_data, valid_data, test_data), \n",
        "    batch_size = BATCH_SIZE, \n",
        "    device = device,\n",
        "    sort_key=_len_sort_key\n",
        ")"
      ],
      "metadata": {
        "id": "UBDiMG4UvArM"
      },
      "execution_count": 14,
      "outputs": []
    },
    {
      "cell_type": "code",
      "source": [
        "!pip install transformers"
      ],
      "metadata": {
        "colab": {
          "base_uri": "https://localhost:8080/"
        },
        "id": "4rDrZQDwUkEN",
        "outputId": "6bfff691-15b1-4412-87a0-204c8f492d0d"
      },
      "execution_count": 15,
      "outputs": [
        {
          "output_type": "stream",
          "name": "stdout",
          "text": [
            "Collecting transformers\n",
            "  Downloading transformers-4.16.2-py3-none-any.whl (3.5 MB)\n",
            "\u001b[K     |████████████████████████████████| 3.5 MB 31.5 MB/s \n",
            "\u001b[?25hCollecting pyyaml>=5.1\n",
            "  Downloading PyYAML-6.0-cp37-cp37m-manylinux_2_5_x86_64.manylinux1_x86_64.manylinux_2_12_x86_64.manylinux2010_x86_64.whl (596 kB)\n",
            "\u001b[K     |████████████████████████████████| 596 kB 61.1 MB/s \n",
            "\u001b[?25hRequirement already satisfied: packaging>=20.0 in /usr/local/lib/python3.7/dist-packages (from transformers) (21.3)\n",
            "Collecting tokenizers!=0.11.3,>=0.10.1\n",
            "  Downloading tokenizers-0.11.4-cp37-cp37m-manylinux_2_12_x86_64.manylinux2010_x86_64.whl (6.8 MB)\n",
            "\u001b[K     |████████████████████████████████| 6.8 MB 68.1 MB/s \n",
            "\u001b[?25hRequirement already satisfied: tqdm>=4.27 in /usr/local/lib/python3.7/dist-packages (from transformers) (4.62.3)\n",
            "Requirement already satisfied: numpy>=1.17 in /usr/local/lib/python3.7/dist-packages (from transformers) (1.19.5)\n",
            "Collecting sacremoses\n",
            "  Downloading sacremoses-0.0.47-py2.py3-none-any.whl (895 kB)\n",
            "\u001b[K     |████████████████████████████████| 895 kB 68.7 MB/s \n",
            "\u001b[?25hRequirement already satisfied: regex!=2019.12.17 in /usr/local/lib/python3.7/dist-packages (from transformers) (2019.12.20)\n",
            "Requirement already satisfied: importlib-metadata in /usr/local/lib/python3.7/dist-packages (from transformers) (4.10.1)\n",
            "Requirement already satisfied: requests in /usr/local/lib/python3.7/dist-packages (from transformers) (2.23.0)\n",
            "Collecting huggingface-hub<1.0,>=0.1.0\n",
            "  Downloading huggingface_hub-0.4.0-py3-none-any.whl (67 kB)\n",
            "\u001b[K     |████████████████████████████████| 67 kB 6.8 MB/s \n",
            "\u001b[?25hRequirement already satisfied: filelock in /usr/local/lib/python3.7/dist-packages (from transformers) (3.4.2)\n",
            "Requirement already satisfied: typing-extensions>=3.7.4.3 in /usr/local/lib/python3.7/dist-packages (from huggingface-hub<1.0,>=0.1.0->transformers) (3.10.0.2)\n",
            "Requirement already satisfied: pyparsing!=3.0.5,>=2.0.2 in /usr/local/lib/python3.7/dist-packages (from packaging>=20.0->transformers) (3.0.7)\n",
            "Requirement already satisfied: zipp>=0.5 in /usr/local/lib/python3.7/dist-packages (from importlib-metadata->transformers) (3.7.0)\n",
            "Requirement already satisfied: chardet<4,>=3.0.2 in /usr/local/lib/python3.7/dist-packages (from requests->transformers) (3.0.4)\n",
            "Requirement already satisfied: certifi>=2017.4.17 in /usr/local/lib/python3.7/dist-packages (from requests->transformers) (2021.10.8)\n",
            "Requirement already satisfied: urllib3!=1.25.0,!=1.25.1,<1.26,>=1.21.1 in /usr/local/lib/python3.7/dist-packages (from requests->transformers) (1.24.3)\n",
            "Requirement already satisfied: idna<3,>=2.5 in /usr/local/lib/python3.7/dist-packages (from requests->transformers) (2.10)\n",
            "Requirement already satisfied: click in /usr/local/lib/python3.7/dist-packages (from sacremoses->transformers) (7.1.2)\n",
            "Requirement already satisfied: joblib in /usr/local/lib/python3.7/dist-packages (from sacremoses->transformers) (1.1.0)\n",
            "Requirement already satisfied: six in /usr/local/lib/python3.7/dist-packages (from sacremoses->transformers) (1.15.0)\n",
            "Installing collected packages: pyyaml, tokenizers, sacremoses, huggingface-hub, transformers\n",
            "  Attempting uninstall: pyyaml\n",
            "    Found existing installation: PyYAML 3.13\n",
            "    Uninstalling PyYAML-3.13:\n",
            "      Successfully uninstalled PyYAML-3.13\n",
            "Successfully installed huggingface-hub-0.4.0 pyyaml-6.0 sacremoses-0.0.47 tokenizers-0.11.4 transformers-4.16.2\n"
          ]
        }
      ]
    },
    {
      "cell_type": "code",
      "source": [
        "from transformers import get_linear_schedule_with_warmup"
      ],
      "metadata": {
        "id": "GJv61ujWUugT"
      },
      "execution_count": 16,
      "outputs": []
    },
    {
      "cell_type": "code",
      "source": [
        "from gensim.models import Word2Vec\n",
        "\n",
        "source = [example.src for example in train_data.examples]\n",
        "target = [example.trg for example in train_data.examples]\n",
        "\n",
        "en_word_list = [SRC.unk_token, SRC.init_token, SRC.pad_token, SRC.eos_token]\n",
        "en_vector_list = [np.random.rand(256) for i in range(4)]\n",
        "en_w2v = Word2Vec(source, size=256, min_count=1, window=15)\n",
        "en_w2v.wv.add(en_word_list, en_vector_list)\n",
        "en_w2v.save('en_w2v.model')\n",
        "\n",
        "be_word_list = [TRG.unk_token, TRG.init_token, TRG.pad_token, TRG.eos_token]\n",
        "be_vector_list = [np.random.rand(256) for i in range(4)]\n",
        "be_w2v = Word2Vec(target, size=256, min_count=1, window=15)\n",
        "be_w2v.wv.add(be_word_list, be_vector_list)\n",
        "be_w2v.save('be_w2v.model')\n",
        "\n",
        "en_emb_weights = torch.FloatTensor(np.array([en_w2v.wv[SRC.vocab.itos[i]] for i in range(len(SRC.vocab))]))\n",
        "be_emb_weights = torch.FloatTensor(np.array([be_w2v.wv[TRG.vocab.itos[i]] for i in range(len(TRG.vocab))]))"
      ],
      "metadata": {
        "id": "gZ7IxP7Dre-6"
      },
      "execution_count": 17,
      "outputs": []
    },
    {
      "cell_type": "code",
      "source": [
        "class EncoderBlock(nn.Module):\n",
        "    \n",
        "    def __init__(self, hid_dim, n_heads, dropout):\n",
        "\n",
        "        super().__init__()\n",
        "\n",
        "        self.attn = nn.MultiheadAttention(hid_dim, n_heads, dropout=dropout, batch_first=True)\n",
        "        self.attn_norm = nn.LayerNorm(hid_dim)\n",
        "        self.fc1 = nn.Linear(hid_dim, 2 * hid_dim)\n",
        "        self.fc2 = nn.Linear(2 * hid_dim, hid_dim)\n",
        "        self.ff_norm = nn.LayerNorm(hid_dim)\n",
        "        self.dropout = nn.Dropout(dropout)\n",
        "\n",
        "\n",
        "    def forward(self, src, src_pad_mask, src_attn_mask):\n",
        "\n",
        "        x, _ = self.attn(src, src, src, key_padding_mask=src_pad_mask, attn_mask=src_attn_mask)\n",
        "        src = self.attn_norm(src + self.dropout(x))\n",
        "        fc1 = torch.relu(self.fc1(src))\n",
        "        fc2 = self.fc2(self.dropout(fc1))\n",
        "        src = self.ff_norm(src + self.dropout(fc2))\n",
        "        return src"
      ],
      "metadata": {
        "id": "j7KwZ1lFL2VW"
      },
      "execution_count": 18,
      "outputs": []
    },
    {
      "cell_type": "code",
      "source": [
        "class Encoder(nn.Module):\n",
        "\n",
        "    def __init__(self, hid_dim, n_heads, n_layers, batch_size, max_len, dropout):\n",
        "\n",
        "        super().__init__()\n",
        "\n",
        "        self.emb = nn.Embedding.from_pretrained(en_emb_weights, freeze=False)\n",
        "\n",
        "        position = torch.arange(max_len).unsqueeze(1)\n",
        "        freq = torch.exp(-torch.arange(hid_dim // 2) * 2 / hid_dim * torch.log(torch.FloatTensor([10000])))\n",
        "        pos_enc = torch.zeros(max_len, 1, hid_dim)\n",
        "        pos_enc[:, 0, 0::2] = torch.sin(position * freq)\n",
        "        pos_enc[:, 0, 1::2] = torch.cos(position * freq)\n",
        "        self.pos_enc = pos_enc.repeat(1, batch_size, 1).permute(1, 0, 2).contiguous().to(device)\n",
        "\n",
        "        self.encoder = nn.ModuleList([EncoderBlock(hid_dim, n_heads, dropout) for i in range(n_layers)])\n",
        "\n",
        "        self.dropout = nn.Dropout(dropout)\n",
        "        \n",
        "        self.scale = torch.sqrt(torch.FloatTensor([hid_dim])).to(device)\n",
        "\n",
        "\n",
        "    def forward(self, src, src_pad_mask, src_attn_mask):\n",
        "\n",
        "      src = self.dropout(self.emb(src) * self.scale + self.pos_enc[:src.size(0),:src.size(1),:])\n",
        "\n",
        "      for block in self.encoder:\n",
        "          src = block(src, src_pad_mask, src_attn_mask)\n",
        "\n",
        "      return src"
      ],
      "metadata": {
        "id": "zVfsKScPQNfD"
      },
      "execution_count": 19,
      "outputs": []
    },
    {
      "cell_type": "code",
      "source": [
        "class DecoderBlock(nn.Module):\n",
        "\n",
        "    def __init__(self, hid_dim, n_heads, dropout):\n",
        "\n",
        "        super().__init__()\n",
        "    \n",
        "        self.dec_attn = nn.MultiheadAttention(hid_dim, n_heads, dropout=dropout, batch_first=True)\n",
        "        self.dec_attn_norm = nn.LayerNorm(hid_dim)\n",
        "        self.cross_attn = nn.MultiheadAttention(hid_dim, n_heads, dropout=dropout, batch_first=True)\n",
        "        self.cross_attn_norm = nn.LayerNorm(hid_dim)\n",
        "        self.fc1 = nn.Linear(hid_dim, 2 * hid_dim)\n",
        "        self.fc2 = nn.Linear(2 * hid_dim, hid_dim)\n",
        "        self.ff_norm = nn.LayerNorm(hid_dim)\n",
        "        self.dropout = nn.Dropout(dropout)\n",
        "\n",
        "\n",
        "    def forward(self, trg, trg_pad_mask, trg_attn_mask, src, cross_pad_mask, cross_attn_mask):\n",
        "        \n",
        "        x, _ = self.dec_attn(trg, trg, trg, key_padding_mask=trg_pad_mask, attn_mask=trg_attn_mask)\n",
        "        trg = self.dec_attn_norm(self.dropout(x) + trg)\n",
        "        x, attn = self.cross_attn(trg, src, src, key_padding_mask=cross_pad_mask, attn_mask=cross_attn_mask)\n",
        "        trg = self.cross_attn_norm(self.dropout(x) + trg)\n",
        "        fc1 = torch.relu(self.fc1(trg))\n",
        "        fc2 = self.fc2(self.dropout(fc1))\n",
        "        trg = self.ff_norm(trg + self.dropout(fc2))\n",
        "        return trg, attn"
      ],
      "metadata": {
        "id": "bVdn_njgS32S"
      },
      "execution_count": 20,
      "outputs": []
    },
    {
      "cell_type": "code",
      "source": [
        "class Decoder(nn.Module):\n",
        "\n",
        "    def __init__(self, out_dim, hid_dim, n_heads, n_layers, batch_size, max_len, dropout):\n",
        "\n",
        "        super().__init__()\n",
        "\n",
        "        self.emb = nn.Embedding.from_pretrained(be_emb_weights, freeze=False)\n",
        "\n",
        "        position = torch.arange(max_len).unsqueeze(1)\n",
        "        freq = torch.exp(-torch.arange(hid_dim // 2) * 2 / hid_dim * torch.log(torch.FloatTensor([10000])))\n",
        "        pos_enc = torch.zeros(max_len, 1, hid_dim)\n",
        "        pos_enc[:, 0, 0::2] = torch.sin(position * freq)\n",
        "        pos_enc[:, 0, 1::2] = torch.cos(position * freq)\n",
        "        self.pos_enc = pos_enc.repeat(1, batch_size, 1).permute(1, 0, 2).contiguous().to(device)\n",
        "\n",
        "        self.decoder = nn.ModuleList([DecoderBlock(hid_dim, n_heads, dropout) for i in range(n_layers)])\n",
        "\n",
        "        self.dropout = nn.Dropout(dropout)\n",
        "        \n",
        "        self.scale = torch.sqrt(torch.FloatTensor([hid_dim])).to(device)\n",
        "\n",
        "        self.out = nn.Linear(hid_dim, out_dim)\n",
        "\n",
        "\n",
        "    def forward(self, trg, trg_pad_mask, trg_attn_mask, src, cross_pad_mask, cross_attn_mask):\n",
        "\n",
        "        trg = self.dropout(self.emb(trg) * self.scale + self.pos_enc[:trg.size(0),:trg.size(1),:])\n",
        "\n",
        "        for block in self.decoder:\n",
        "            trg, attn = block(trg, trg_pad_mask, trg_attn_mask, src, cross_pad_mask, cross_attn_mask)\n",
        "\n",
        "        return self.out(trg), attn"
      ],
      "metadata": {
        "id": "NfwcT0KWYsic"
      },
      "execution_count": 21,
      "outputs": []
    },
    {
      "cell_type": "code",
      "source": [
        "class Transformer(nn.Module):\n",
        "\n",
        "    def __init__(self, out_dim, hid_dim, n_heads, n_layers, dropout, batch_size, src_pad, trg_pad, max_len=1000):\n",
        "\n",
        "        super().__init__()\n",
        "\n",
        "        self.src_pad = src_pad\n",
        "        self.trg_pad = trg_pad\n",
        "        self.encoder = Encoder(hid_dim, n_heads, n_layers, batch_size, max_len, dropout)\n",
        "        self.decoder = Decoder(out_dim, hid_dim, n_heads, n_layers, batch_size, max_len, dropout)\n",
        "        \n",
        "    \n",
        "    def make_pad_mask(self, x, pad_id):\n",
        "\n",
        "        return (x == pad_id)\n",
        "\n",
        "\n",
        "    def make_attn_mask(self, x_size, y_size, mode):\n",
        "\n",
        "        if mode == 'src':\n",
        "            return torch.ones(x_size, y_size)\n",
        "        else:\n",
        "            mask = torch.triu(torch.ones(x_size, y_size), diagonal=1)\n",
        "            mask[mask.bool()] = -float('inf')\n",
        "            return mask\n",
        "\n",
        "    \n",
        "    def forward(self, src, trg):\n",
        "\n",
        "        s = src.size(1)\n",
        "        t = trg.size(1)\n",
        "        src_pad_mask = self.make_pad_mask(src, self.src_pad).to(device)\n",
        "        cross_pad_mask = self.make_pad_mask(src, self.src_pad).to(device)\n",
        "        trg_pad_mask = self.make_pad_mask(trg, self.trg_pad).to(device)\n",
        "        src_attn_mask = self.make_attn_mask(s, s, 'src').to(device)\n",
        "        cross_attn_mask = self.make_attn_mask(t, s, 'cross').to(device)\n",
        "        trg_attn_mask = self.make_attn_mask(t, t, 'trg').to(device)\n",
        "\n",
        "        enc_src = self.encoder(src, src_pad_mask, src_attn_mask)\n",
        "        output, attention = self.decoder(trg, trg_pad_mask, trg_attn_mask, enc_src, cross_pad_mask, cross_attn_mask)\n",
        "        return output, attention"
      ],
      "metadata": {
        "id": "l4u6W4Nabgsu"
      },
      "execution_count": 22,
      "outputs": []
    },
    {
      "cell_type": "code",
      "source": [
        "SRC_PAD = SRC.vocab.stoi[SRC.pad_token]\n",
        "TRG_PAD = TRG.vocab.stoi[TRG.pad_token]\n",
        "INP_DIM = len(SRC.vocab)\n",
        "OUT_DIM = len(TRG.vocab)\n",
        "HID_DIM = 256\n",
        "N_LAYERS = 3\n",
        "N_HEADS = 8\n",
        "DROPOUT = 0.1\n",
        "\n",
        "trans = Transformer(OUT_DIM,\n",
        "                    HID_DIM,\n",
        "                    N_HEADS,\n",
        "                    N_LAYERS,\n",
        "                    DROPOUT,\n",
        "                    BATCH_SIZE,\n",
        "                    SRC_PAD,\n",
        "                    TRG_PAD).to(device)\n",
        "\n",
        "def init_weights(m):\n",
        "    if type(m) != nn.Embedding:\n",
        "        for name, param in m.named_parameters():\n",
        "            nn.init.uniform_(param, -0.08, 0.08)\n",
        "\n",
        "trans.apply(init_weights)"
      ],
      "metadata": {
        "colab": {
          "base_uri": "https://localhost:8080/"
        },
        "id": "ovveurooe3tk",
        "outputId": "55b727a2-5cd4-4151-8ae7-f1899eddfa16"
      },
      "execution_count": 23,
      "outputs": [
        {
          "output_type": "execute_result",
          "data": {
            "text/plain": [
              "Transformer(\n",
              "  (encoder): Encoder(\n",
              "    (emb): Embedding(12842, 256)\n",
              "    (encoder): ModuleList(\n",
              "      (0): EncoderBlock(\n",
              "        (attn): MultiheadAttention(\n",
              "          (out_proj): NonDynamicallyQuantizableLinear(in_features=256, out_features=256, bias=True)\n",
              "        )\n",
              "        (attn_norm): LayerNorm((256,), eps=1e-05, elementwise_affine=True)\n",
              "        (fc1): Linear(in_features=256, out_features=512, bias=True)\n",
              "        (fc2): Linear(in_features=512, out_features=256, bias=True)\n",
              "        (ff_norm): LayerNorm((256,), eps=1e-05, elementwise_affine=True)\n",
              "        (dropout): Dropout(p=0.1, inplace=False)\n",
              "      )\n",
              "      (1): EncoderBlock(\n",
              "        (attn): MultiheadAttention(\n",
              "          (out_proj): NonDynamicallyQuantizableLinear(in_features=256, out_features=256, bias=True)\n",
              "        )\n",
              "        (attn_norm): LayerNorm((256,), eps=1e-05, elementwise_affine=True)\n",
              "        (fc1): Linear(in_features=256, out_features=512, bias=True)\n",
              "        (fc2): Linear(in_features=512, out_features=256, bias=True)\n",
              "        (ff_norm): LayerNorm((256,), eps=1e-05, elementwise_affine=True)\n",
              "        (dropout): Dropout(p=0.1, inplace=False)\n",
              "      )\n",
              "      (2): EncoderBlock(\n",
              "        (attn): MultiheadAttention(\n",
              "          (out_proj): NonDynamicallyQuantizableLinear(in_features=256, out_features=256, bias=True)\n",
              "        )\n",
              "        (attn_norm): LayerNorm((256,), eps=1e-05, elementwise_affine=True)\n",
              "        (fc1): Linear(in_features=256, out_features=512, bias=True)\n",
              "        (fc2): Linear(in_features=512, out_features=256, bias=True)\n",
              "        (ff_norm): LayerNorm((256,), eps=1e-05, elementwise_affine=True)\n",
              "        (dropout): Dropout(p=0.1, inplace=False)\n",
              "      )\n",
              "    )\n",
              "    (dropout): Dropout(p=0.1, inplace=False)\n",
              "  )\n",
              "  (decoder): Decoder(\n",
              "    (emb): Embedding(14441, 256)\n",
              "    (decoder): ModuleList(\n",
              "      (0): DecoderBlock(\n",
              "        (dec_attn): MultiheadAttention(\n",
              "          (out_proj): NonDynamicallyQuantizableLinear(in_features=256, out_features=256, bias=True)\n",
              "        )\n",
              "        (dec_attn_norm): LayerNorm((256,), eps=1e-05, elementwise_affine=True)\n",
              "        (cross_attn): MultiheadAttention(\n",
              "          (out_proj): NonDynamicallyQuantizableLinear(in_features=256, out_features=256, bias=True)\n",
              "        )\n",
              "        (cross_attn_norm): LayerNorm((256,), eps=1e-05, elementwise_affine=True)\n",
              "        (fc1): Linear(in_features=256, out_features=512, bias=True)\n",
              "        (fc2): Linear(in_features=512, out_features=256, bias=True)\n",
              "        (ff_norm): LayerNorm((256,), eps=1e-05, elementwise_affine=True)\n",
              "        (dropout): Dropout(p=0.1, inplace=False)\n",
              "      )\n",
              "      (1): DecoderBlock(\n",
              "        (dec_attn): MultiheadAttention(\n",
              "          (out_proj): NonDynamicallyQuantizableLinear(in_features=256, out_features=256, bias=True)\n",
              "        )\n",
              "        (dec_attn_norm): LayerNorm((256,), eps=1e-05, elementwise_affine=True)\n",
              "        (cross_attn): MultiheadAttention(\n",
              "          (out_proj): NonDynamicallyQuantizableLinear(in_features=256, out_features=256, bias=True)\n",
              "        )\n",
              "        (cross_attn_norm): LayerNorm((256,), eps=1e-05, elementwise_affine=True)\n",
              "        (fc1): Linear(in_features=256, out_features=512, bias=True)\n",
              "        (fc2): Linear(in_features=512, out_features=256, bias=True)\n",
              "        (ff_norm): LayerNorm((256,), eps=1e-05, elementwise_affine=True)\n",
              "        (dropout): Dropout(p=0.1, inplace=False)\n",
              "      )\n",
              "      (2): DecoderBlock(\n",
              "        (dec_attn): MultiheadAttention(\n",
              "          (out_proj): NonDynamicallyQuantizableLinear(in_features=256, out_features=256, bias=True)\n",
              "        )\n",
              "        (dec_attn_norm): LayerNorm((256,), eps=1e-05, elementwise_affine=True)\n",
              "        (cross_attn): MultiheadAttention(\n",
              "          (out_proj): NonDynamicallyQuantizableLinear(in_features=256, out_features=256, bias=True)\n",
              "        )\n",
              "        (cross_attn_norm): LayerNorm((256,), eps=1e-05, elementwise_affine=True)\n",
              "        (fc1): Linear(in_features=256, out_features=512, bias=True)\n",
              "        (fc2): Linear(in_features=512, out_features=256, bias=True)\n",
              "        (ff_norm): LayerNorm((256,), eps=1e-05, elementwise_affine=True)\n",
              "        (dropout): Dropout(p=0.1, inplace=False)\n",
              "      )\n",
              "    )\n",
              "    (dropout): Dropout(p=0.1, inplace=False)\n",
              "    (out): Linear(in_features=256, out_features=14441, bias=True)\n",
              "  )\n",
              ")"
            ]
          },
          "metadata": {},
          "execution_count": 23
        }
      ]
    },
    {
      "cell_type": "code",
      "source": [
        "import matplotlib\n",
        "matplotlib.rcParams.update({'figure.figsize': (16, 12), 'font.size': 14})\n",
        "import matplotlib.pyplot as plt\n",
        "%matplotlib inline\n",
        "from IPython.display import clear_output\n",
        "\n",
        "import time\n",
        "import math"
      ],
      "metadata": {
        "id": "viFkgpt4e-_B"
      },
      "execution_count": 24,
      "outputs": []
    },
    {
      "cell_type": "code",
      "source": [
        "# 25 эпох - это явный перебор, но решил оставить так, потому что подбор параметров - не самоцель (ну и потому что уже скачал веса)\n",
        "# к тому же БЛЕУ для весов best-val-model оказалось хуже, чем для весов на последней эпохе \n",
        "NUM_EPOCHS = 25\n",
        "\n",
        "criterion = nn.CrossEntropyLoss(ignore_index=TRG_PAD)\n",
        "optimizer = optim.Adam(trans.parameters(), betas=(0.9, 0.98), eps=1e-9, lr=5e-4)\n",
        "scheduler = get_linear_schedule_with_warmup(optimizer, 7000, 22800)\n",
        "\n",
        "def train(model, iterator, optimizer, scheduler, criterion, CLIP, train_history, valid_history):\n",
        "    \n",
        "    model.train()\n",
        "\n",
        "    epoch_loss = 0\n",
        "    history = []\n",
        "\n",
        "    for i, batch in enumerate(iterator):\n",
        "        \n",
        "        src = batch.src\n",
        "        trg = batch.trg\n",
        "        optimizer.zero_grad()\n",
        "        output, attention = model(src, trg[:,:-1])\n",
        "        output = output.contiguous().view(-1, OUT_DIM)\n",
        "        trg = trg[:,1:].contiguous().view(-1)\n",
        "        \n",
        "        loss = criterion(output, trg)\n",
        "        loss.backward()\n",
        "        torch.nn.utils.clip_grad_norm_(model.parameters(), CLIP)\n",
        "        optimizer.step()\n",
        "        scheduler.step()\n",
        "\n",
        "        epoch_loss += loss.item()\n",
        "        history.append(loss.cpu().data.numpy())\n",
        "\n",
        "        if (i+1)%10==0:\n",
        "            fig, ax = plt.subplots(nrows=1, ncols=2, figsize=(12, 8))\n",
        "\n",
        "            clear_output(True)\n",
        "            ax[0].plot(history, label='train loss')\n",
        "            ax[0].set_xlabel('Batch')\n",
        "            ax[0].set_title('Train loss')\n",
        "            if train_history is not None:\n",
        "                ax[1].plot(train_history, label='general train history')\n",
        "                ax[1].set_xlabel('Epoch')\n",
        "            if valid_history is not None:\n",
        "                ax[1].plot(valid_history, label='general valid history')\n",
        "            plt.legend()\n",
        "\n",
        "            plt.show()\n",
        "\n",
        "    return epoch_loss / len(iterator)"
      ],
      "metadata": {
        "id": "rm0QtmE2fEtl"
      },
      "execution_count": 25,
      "outputs": []
    },
    {
      "cell_type": "code",
      "source": [
        "def evaluate(model, iterator, criterion):\n",
        "    \n",
        "    model.eval()\n",
        "    \n",
        "    epoch_loss = 0\n",
        "    \n",
        "    with torch.no_grad():\n",
        "    \n",
        "        for i, batch in enumerate(iterator):\n",
        "\n",
        "            src = batch.src\n",
        "            trg = batch.trg\n",
        "\n",
        "            output, attention = model(src, trg[:,:-1])\n",
        "\n",
        "            output = output.contiguous().view(-1, OUT_DIM)\n",
        "            trg = trg[:,1:].contiguous().view(-1)\n",
        "            \n",
        "            loss = criterion(output, trg)\n",
        "\n",
        "            epoch_loss += loss.item()\n",
        "        \n",
        "    return epoch_loss / len(iterator)"
      ],
      "metadata": {
        "id": "FX4oMgkafN4g"
      },
      "execution_count": 26,
      "outputs": []
    },
    {
      "cell_type": "code",
      "source": [
        "def epoch_time(start_time, end_time):\n",
        "    elapsed_time = end_time - start_time\n",
        "    elapsed_mins = int(elapsed_time / 60)\n",
        "    elapsed_secs = int(elapsed_time - (elapsed_mins * 60))\n",
        "    return elapsed_mins, elapsed_secs"
      ],
      "metadata": {
        "id": "J9Z6cn1PfRBq"
      },
      "execution_count": 27,
      "outputs": []
    },
    {
      "cell_type": "code",
      "source": [
        "train_history = []\n",
        "valid_history = []\n",
        "\n",
        "CLIP = 5\n",
        "best_valid_loss = float('inf')\n",
        "\n",
        "for epoch in range(NUM_EPOCHS):\n",
        "    start_time = time.time()\n",
        "    train_loss = train(trans, train_iterator, optimizer, scheduler, criterion, CLIP, train_history, valid_history)\n",
        "    valid_loss = evaluate(trans, valid_iterator, criterion)\n",
        "    end_time = time.time()\n",
        "    epoch_mins, epoch_secs = epoch_time(start_time, end_time)\n",
        "    if valid_loss < best_valid_loss:\n",
        "        best_valid_loss = valid_loss\n",
        "        torch.save(trans.state_dict(), 'best-val-model.pt')\n",
        "    train_history.append(train_loss)\n",
        "    valid_history.append(valid_loss)\n",
        "    print(f'Epoch: {epoch+1:02} | Time: {epoch_mins}m {epoch_secs}s')   \n",
        "    print(f'\\tTrain Loss: {train_loss:.3f} | Train PPL: {math.exp(train_loss):7.3f}')\n",
        "    print(f'\\t Val. Loss: {valid_loss:.3f} | Val. PPL: {math.exp(valid_loss):7.3f}')"
      ],
      "metadata": {
        "colab": {
          "base_uri": "https://localhost:8080/",
          "height": 565
        },
        "id": "793zxhuUfS5-",
        "outputId": "3806aa86-6061-4312-d998-701d03186afd"
      },
      "execution_count": 28,
      "outputs": [
        {
          "output_type": "display_data",
          "data": {
            "image/png": "[encoded data removed]",
            "text/plain": [
              "<Figure size 864x576 with 2 Axes>"
            ]
          },
          "metadata": {
            "needs_background": "light"
          }
        },
        {
          "output_type": "stream",
          "name": "stdout",
          "text": [
            "Epoch: 25 | Time: 0m 42s\n",
            "\tTrain Loss: 0.967 | Train PPL:   2.629\n",
            "\t Val. Loss: 2.991 | Val. PPL:  19.905\n"
          ]
        }
      ]
    },
    {
      "cell_type": "code",
      "source": [
        "torch.save(trans.state_dict(), 'last-val-model.pt')"
      ],
      "metadata": {
        "id": "rMvFTsjDPR8I"
      },
      "execution_count": 29,
      "outputs": []
    },
    {
      "cell_type": "code",
      "source": [
        "def translate_sentence(sentence, src_field, trg_field, model, device, max_len = 50):\n",
        "    \n",
        "    model.eval()\n",
        "        \n",
        "    if isinstance(sentence, str):\n",
        "        tokens = [bpe_en.id_to_subword(token) for token in bpe_en.encode(sentence.lower())]\n",
        "    else:\n",
        "        tokens = [token.lower() for token in sentence]\n",
        "\n",
        "    tokens = [src_field.init_token] + tokens + [src_field.eos_token]\n",
        "        \n",
        "    src_indexes = [src_field.vocab.stoi[token] for token in tokens]\n",
        "\n",
        "    src_tensor = torch.LongTensor(src_indexes).unsqueeze(0).to(device)\n",
        "    \n",
        "    src_pad_mask = model.make_pad_mask(src_tensor, model.src_pad).to(device)\n",
        "\n",
        "    src_attn_mask = model.make_attn_mask(src_tensor.size(1), src_tensor.size(1), 'src').to(device)\n",
        "    \n",
        "    with torch.no_grad():\n",
        "        enc_src = model.encoder(src_tensor, src_pad_mask, src_attn_mask)\n",
        "\n",
        "    trg_indexes = [trg_field.vocab.stoi[trg_field.init_token]]\n",
        "\n",
        "    for i in range(max_len):\n",
        "\n",
        "        trg_tensor = torch.LongTensor(trg_indexes).unsqueeze(0).to(device)\n",
        "\n",
        "        trg_pad_mask = model.make_pad_mask(trg_tensor, model.trg_pad).to(device)\n",
        "\n",
        "        trg_attn_mask = model.make_attn_mask(trg_tensor.size(1), trg_tensor.size(1), 'trg').to(device)\n",
        "\n",
        "        cross_pad_mask = model.make_pad_mask(src_tensor, model.src_pad).to(device)\n",
        "\n",
        "        cross_attn_mask = model.make_attn_mask(trg_tensor.size(1), src_tensor.size(1), 'cross').to(device)\n",
        "        \n",
        "        with torch.no_grad():\n",
        "            output, attention = model.decoder(trg_tensor, trg_pad_mask, trg_attn_mask, enc_src, cross_pad_mask, cross_attn_mask)\n",
        "        \n",
        "        pred_token = output.argmax(2)[:,-1].item()\n",
        "        \n",
        "        trg_indexes.append(pred_token)\n",
        "\n",
        "        if pred_token == trg_field.vocab.stoi[trg_field.eos_token]:\n",
        "            break\n",
        "    \n",
        "    trg_tokens = [trg_field.vocab.itos[i] for i in trg_indexes][1:-1]\n",
        "\n",
        "    result = ''.join(trg_tokens)\n",
        "    \n",
        "    return result.replace('▁', ' '), attention"
      ],
      "metadata": {
        "id": "trocnaHzgWab"
      },
      "execution_count": 30,
      "outputs": []
    },
    {
      "cell_type": "code",
      "source": [
        "example_idx = 12\n",
        "\n",
        "src = vars(train_data.examples[example_idx])['src']\n",
        "trg = vars(train_data.examples[example_idx])['trg']\n",
        "\n",
        "print(f'src = {src}')\n",
        "print(f'trg = {trg}')"
      ],
      "metadata": {
        "id": "SVqyuZeKlXTN",
        "colab": {
          "base_uri": "https://localhost:8080/"
        },
        "outputId": "ba6b0cff-1e9b-4314-f51e-3894dfea8d93"
      },
      "execution_count": 31,
      "outputs": [
        {
          "output_type": "stream",
          "name": "stdout",
          "text": [
            "src = ['▁i', '▁wish', \"▁you'd\", '▁told', '▁me', '▁this', '▁earlier.']\n",
            "trg = ['▁mennaɣ', '▁mer', '▁iyi-d-tenniḍ', '▁aya', '▁uqbel.']\n"
          ]
        }
      ]
    },
    {
      "cell_type": "code",
      "source": [
        "translation, attention = translate_sentence(src, SRC, TRG, trans, device)\n",
        "\n",
        "print(f'predicted trg = {translation}')"
      ],
      "metadata": {
        "id": "3R1E4-41lZTo",
        "colab": {
          "base_uri": "https://localhost:8080/"
        },
        "outputId": "fe60cd9a-52cf-40bb-9f4e-3be7888cc506"
      },
      "execution_count": 32,
      "outputs": [
        {
          "output_type": "stream",
          "name": "stdout",
          "text": [
            "predicted trg =  mennaɣ lemmer iyi-d-tennid aya uqbel.\n"
          ]
        }
      ]
    },
    {
      "cell_type": "code",
      "source": [
        "translation, attention = translate_sentence(\"I have a dog\", SRC, TRG, trans, device)\n",
        "\n",
        "print(f'predicted trg = {translation}')"
      ],
      "metadata": {
        "colab": {
          "base_uri": "https://localhost:8080/"
        },
        "id": "4YIcSd0iiF1r",
        "outputId": "f777f7cf-1c91-40ca-c289-e795e0c9f1cb"
      },
      "execution_count": 33,
      "outputs": [
        {
          "output_type": "stream",
          "name": "stdout",
          "text": [
            "predicted trg =  sɛiɣ aydi ad d-yadef.\n"
          ]
        }
      ]
    },
    {
      "cell_type": "code",
      "source": [
        "def translate_sentence_vectorized(src_tensor, src_field, trg_field, model, device, max_len=50):\n",
        "    assert isinstance(src_tensor, torch.Tensor)\n",
        "\n",
        "    model.eval()\n",
        "    src_mask = model.make_pad_mask(src_tensor, SRC.vocab.stoi[SRC.pad_token]).to(device)\n",
        "    sa = model.make_attn_mask(src_tensor.size(1), src_tensor.size(1), 'src').to(device)\n",
        "\n",
        "\n",
        "    with torch.no_grad():\n",
        "        enc_src = model.encoder(src_tensor, src_mask, sa)\n",
        "\n",
        "    trg_indexes = [[trg_field.vocab.stoi[trg_field.init_token]] for _ in range(len(src_tensor))]\n",
        "    translations_done = [0] * len(src_tensor)\n",
        "    for i in range(max_len):\n",
        "        trg_tensor = torch.LongTensor(trg_indexes).to(device)\n",
        "        trg_mask = model.make_pad_mask(trg_tensor, TRG.vocab.stoi[TRG.pad_token]).to(device)\n",
        "        ta = model.make_attn_mask(trg_tensor.size(1), trg_tensor.size(1), 'trg').to(device)\n",
        "        cross_pad_mask = model.make_pad_mask(src_tensor, SRC.vocab.stoi[SRC.pad_token]).to(device)\n",
        "        cross_attn_mask = model.make_attn_mask(trg_tensor.size(1), src_tensor.size(1), 'cross').to(device)\n",
        "        with torch.no_grad():\n",
        "            output, attention = model.decoder(trg_tensor, trg_mask, ta, enc_src, cross_pad_mask, cross_attn_mask)\n",
        "        pred_tokens = output.argmax(2)[:,-1]\n",
        "        for i, pred_token_i in enumerate(pred_tokens):\n",
        "            trg_indexes[i].append(pred_token_i)\n",
        "            if pred_token_i == trg_field.vocab.stoi[trg_field.eos_token]:\n",
        "                translations_done[i] = 1\n",
        "        if all(translations_done):\n",
        "            break\n",
        "\n",
        "    pred_sentences = []\n",
        "    for trg_sentence in trg_indexes:\n",
        "        pred_sentence = []\n",
        "        for i in range(1, len(trg_sentence)):\n",
        "            if trg_sentence[i] == trg_field.vocab.stoi[trg_field.eos_token]:\n",
        "                break\n",
        "            pred_sentence.append(trg_field.vocab.itos[trg_sentence[i]])\n",
        "        pred_sentences.append(pred_sentence)\n",
        "\n",
        "    return pred_sentences, attention"
      ],
      "metadata": {
        "id": "Ps56R1wklbYE"
      },
      "execution_count": 34,
      "outputs": []
    },
    {
      "cell_type": "code",
      "source": [
        "from torchtext.data.metrics import bleu_score\n",
        "from tqdm.notebook import tqdm\n",
        "\n",
        "def calculate_bleu_alt(iterator, src_field, trg_field, model, device, max_len = 50):\n",
        "    trgs = []\n",
        "    pred_trgs = []\n",
        "    with torch.no_grad():\n",
        "        for batch in tqdm(iterator):\n",
        "            src = batch.src\n",
        "            trg = batch.trg\n",
        "            _trgs = []\n",
        "            for sentence in trg:\n",
        "                tmp = []\n",
        "                for i in sentence[1:]:\n",
        "                    if i == trg_field.vocab.stoi[trg_field.eos_token] or i == trg_field.vocab.stoi[trg_field.pad_token]:\n",
        "                        break\n",
        "                    tmp.append(trg_field.vocab.itos[i])\n",
        "                _trgs.append([tmp])\n",
        "            trgs += _trgs\n",
        "            pred_trg, _ = translate_sentence_vectorized(src, src_field, trg_field, model, device)\n",
        "            for sent in pred_trg:\n",
        "                sent = [token for token in sent if token != '<unk>']\n",
        "            pred_trgs += pred_trg\n",
        "    return pred_trgs, trgs, bleu_score(pred_trgs, trgs)"
      ],
      "metadata": {
        "id": "f45_Ws-T_PtT"
      },
      "execution_count": 35,
      "outputs": []
    },
    {
      "cell_type": "code",
      "source": [
        "_, _, bleu_score = calculate_bleu_alt(test_iterator, SRC, TRG, trans, device)\n",
        "\n",
        "print(f'BLEU score = {bleu_score*100:.2f}')"
      ],
      "metadata": {
        "id": "77r9jZy-_UUD",
        "colab": {
          "base_uri": "https://localhost:8080/",
          "height": 66,
          "referenced_widgets": [
            "f05f0716d5e9416b8315a7a1a9d77973",
            "8dcac89c4fce460ba567255d94f32573",
            "0c9e5b0c48e54cdc8293c2e307a073c3",
            "5bbfb16c6be544bfbc95b96da77ec5c6",
            "5ac36950c8cd428e83b0db6a62d3fd66",
            "a5a2294236e94f7b82b7af4379c1b1a4",
            "37c6d0d11bdd48b8ad9026d9151c5db3",
            "bcb1abdbea714cd2b321e42a93bcfe15",
            "579bac1c6c3d448cb98c0cde67a045ab",
            "6737e3bea98344d4969a79773182eeb5",
            "db46a17205fa46a1b7f184a3c577042d"
          ]
        },
        "outputId": "e2c44702-bb50-42b0-ebad-847a9c30c7e8"
      },
      "execution_count": 36,
      "outputs": [
        {
          "output_type": "display_data",
          "data": {
            "application/vnd.jupyter.widget-view+json": {
              "model_id": "f05f0716d5e9416b8315a7a1a9d77973",
              "version_minor": 0,
              "version_major": 2
            },
            "text/plain": [
              "  0%|          | 0/89 [00:00<?, ?it/s]"
            ]
          },
          "metadata": {}
        },
        {
          "output_type": "stream",
          "name": "stdout",
          "text": [
            "BLEU score = 22.26\n"
          ]
        }
      ]
    },
    {
      "cell_type": "code",
      "source": [
        "torch.save(SRC.vocab, 'src_vocab.pth')\n",
        "torch.save(TRG.vocab, 'trg_vocab.pth')"
      ],
      "metadata": {
        "id": "-xHv-BFA6S9C"
      },
      "execution_count": 37,
      "outputs": []
    },
    {
      "cell_type": "markdown",
      "source": [
        "Таким образом, эмбеддинги с предобученными весами дали ВLEU чуть хуже, чем обученные с нуля."
      ],
      "metadata": {
        "id": "Dkiib_NCml6V"
      }
    },
    {
      "cell_type": "code",
      "source": [
        ""
      ],
      "metadata": {
        "id": "mx7DCgoO44oG"
      },
      "execution_count": null,
      "outputs": []
    }
  ]
}